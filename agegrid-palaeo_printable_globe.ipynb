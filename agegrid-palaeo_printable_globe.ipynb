{
 "cells": [
  {
   "cell_type": "markdown",
   "id": "ec003696-c48e-40ab-b46c-b02d36b2e163",
   "metadata": {},
   "source": [
    "# Make your own palaeo-agegrid globe(s)!\n",
    "\n",
    "Agegrids should be for the masses!\n",
    "\n"
   ]
  },
  {
   "cell_type": "code",
   "execution_count": 15,
   "id": "f890f708-964c-4008-832f-2d4e68c4cfd4",
   "metadata": {},
   "outputs": [],
   "source": [
    "import pygmt\n",
    "import gplately\n",
    "import gplately.pygplates as pygplates\n",
    "import numpy as np\n",
    "import os"
   ]
  },
  {
   "cell_type": "markdown",
   "id": "d86be560-17a7-4db5-b258-f97c15e4a85a",
   "metadata": {},
   "source": [
    "Set up locations to files. \n",
    "\n",
    "This time we're going to plot some plate boundaries, so also need to set up filepaths for the rotation file and topologies (e.g. from GPlates 2.3 GeoData) "
   ]
  },
  {
   "cell_type": "code",
   "execution_count": 10,
   "id": "cb988f57-6681-425f-8d66-d212c776c3b9",
   "metadata": {},
   "outputs": [],
   "source": [
    "plate_model_dir = '/Applications/GPlates_2.3.0/GeoData/FeatureCollections'\n",
    "\n",
    "# specify files we need\n",
    "rotation_filenames = '%s/Rotations/Muller2019-Young2019-Cao2020_CombinedRotations.rot' % (plate_model_dir)\n",
    "rotation_model = pygplates.RotationModel(rotation_filenames)\n",
    "\n",
    "topology_filenames = ['%s/DynamicPolygons/Muller2019-Young2019-Cao2020_PlateBoundaries.gpmlz'  % plate_model_dir, \\\n",
    "    '%s/DeformingLithosphere/Muller2019-Young2019-Cao2020_ActiveDeformation.gpmlz' % plate_model_dir, \\\n",
    "    '%s/DeformingLithosphere/Muller2019-Young2019-Cao2020_InactiveDeformation.gpmlz' % plate_model_dir ]\n",
    "\n",
    "topology_features = pygplates.FeatureCollection()\n",
    "for file in topology_filenames:\n",
    "    topology_feature = pygplates.FeatureCollection(file)\n",
    "    topology_features.add(topology_feature)\n",
    "\n",
    "# don't actually need these, but specified just incase..\n",
    "static_polygon_filename = '%s/StaticPolygons/Global_EarthByte_GPlates_PresentDay_StaticPlatePolygons.gpmlz' % (plate_model_dir)\n",
    " \n",
    "coastline_filename = '%s/Coastlines/Global_EarthByte_GPlates_PresentDay_Coastlines.gpmlz' % (plate_model_dir)\n",
    "coastlines = pygplates.FeatureCollection(coastline_filename)\n",
    "\n",
    "cob_filename = '%s/COBs/Muller2019-Young2019-Cao2020_COBs.gpmlz' % (plate_model_dir)\n",
    "\n",
    "# create a gplately PlateReconstruction\n",
    "gplates23_model = gplately.PlateReconstruction(rotation_model, topology_features=topology_features, \n",
    "                                               static_polygons=static_polygon_filename)"
   ]
  },
  {
   "cell_type": "code",
   "execution_count": 37,
   "id": "a4e50316-65e2-4b92-aebc-e760cffed751",
   "metadata": {
    "tags": []
   },
   "outputs": [],
   "source": [
    "# --- agegrids\n",
    "agegrid_dir = '/Users/nickywright/Downloads/Muller2019-Young2019-Cao2020_Agegrids/Muller2019-Young2019-Cao2020_netCDF/'\n",
    "agegrid_filename = 'Muller2019-Young2019-Cao2020_AgeGrid-'\n",
    "agegrid_filename_ext = '.nc'"
   ]
  },
  {
   "cell_type": "markdown",
   "id": "ffcd1622-cd25-4388-8db9-93e8ad01024d",
   "metadata": {},
   "source": [
    "## Plot!\n",
    "\n",
    "Using [pygmt](https://www.pygmt.org/latest/index.html) or your favourite plotting program.\n",
    "\n",
    "Note: we **don't** want any edges on this, because no one likes ugly borders through the Pacific Ocean.\n",
    "We will also use `gplately` to help us plot plate boundaries!"
   ]
  },
  {
   "cell_type": "code",
   "execution_count": 20,
   "id": "70ce088e-56a6-4960-9163-4907e8df19f2",
   "metadata": {},
   "outputs": [],
   "source": [
    "if not os.path.exists('tmp'):\n",
    "    os.makedirs('tmp')"
   ]
  },
  {
   "cell_type": "code",
   "execution_count": 22,
   "id": "0507012f-fc82-470c-90bb-9e5221163513",
   "metadata": {},
   "outputs": [],
   "source": [
    "# test getting plate boundaries at X time...\n",
    "age = 50\n",
    "\n",
    "gplot = gplately.PlotTopologies(gplates23_model, coastlines=coastlines, COBs=cob_filename, time=age)\n",
    "gdf_coastlines = gplot.get_coastlines()\n",
    "gdf_cobs = gplot.get_continent_ocean_boundaries()\n",
    "\n",
    "gdf_subduction_left, gdf_subduction_right = gplot.get_subduction_direction()\n",
    "gdf_ridges_transforms = gplot.get_ridges_and_transforms()\n",
    "gdf_ridges = gplot.get_ridges()\n",
    "gdf_transforms = gplot.get_transforms()\n",
    "gdf_fracturezones = gplot.get_fracture_zones()\n",
    "gdf_ipb = gplot.get_inferred_paleo_boundaries()\n",
    "gdf_sutures = gplot.get_sutures()\n",
    "gdf_misc = gplot.get_misc_boundaries()\n",
    "\n",
    "gdf_topo = gplot.get_all_topologies()\n",
    "gdf_topo_plates = gdf_topo[(gdf_topo['feature_name'] == 'TopologicalClosedPlateBoundary')]\n"
   ]
  },
  {
   "cell_type": "code",
   "execution_count": 64,
   "id": "06b6cc37-3459-4cda-96c9-4c7a1a8a7933",
   "metadata": {},
   "outputs": [],
   "source": [
    "# gdf_topo_plates"
   ]
  },
  {
   "cell_type": "code",
   "execution_count": 65,
   "id": "1c8d6b3e-5c6f-4694-be75-49aa067fe3f4",
   "metadata": {},
   "outputs": [],
   "source": [
    "# gdf_topo_plates.plot()"
   ]
  },
  {
   "cell_type": "markdown",
   "id": "66ad7c3b-6bf3-42b4-8ff1-5aac7c7002f1",
   "metadata": {},
   "source": [
    "Going to end up with a line in the middle of the Pacific using these :( \n",
    "\n",
    "Perhaps we can convert to lines, and then get rid of the -180° line? To do..."
   ]
  },
  {
   "cell_type": "code",
   "execution_count": 55,
   "id": "af48f981-deb7-4776-ba85-f96d56bab847",
   "metadata": {},
   "outputs": [],
   "source": [
    "def plot_paleo_agegrid(age):\n",
    "    gplot = gplately.PlotTopologies(gplates23_model, coastlines=coastlines, COBs=cob_filename, time=age)\n",
    "    gdf_coastlines = gplot.get_coastlines()\n",
    "    # gdf_cobs = gplot.get_continent_ocean_boundaries()\n",
    "\n",
    "    gdf_subduction_left, gdf_subduction_right = gplot.get_subduction_direction()\n",
    "    gdf_ridges_transforms = gplot.get_ridges_and_transforms()\n",
    "    # gdf_ridges = gplot.get_ridges()\n",
    "    # gdf_transforms = gplot.get_transforms()\n",
    "    gdf_fracturezones = gplot.get_fracture_zones()\n",
    "    gdf_ipb = gplot.get_inferred_paleo_boundaries()\n",
    "    gdf_sutures = gplot.get_sutures()\n",
    "    gdf_misc = gplot.get_misc_boundaries()\n",
    "\n",
    "    gdf_topo = gplot.get_all_topologies()\n",
    "    gdf_topo_plates = gdf_topo[(gdf_topo['feature_name'] == 'TopologicalClosedPlateBoundary')]\n",
    "    \n",
    "    # ----- parameters for plot\n",
    "    region = 'd'\n",
    "    width = '18/9'\n",
    "    projection = 'X'\n",
    "\n",
    "    # plate boundary stuff\n",
    "    plateboundary_width = '0.5p'\n",
    "    plate_colour = 'white'\n",
    "    subduction_zone_colour = 'white'\n",
    "    ridge_colour = 'white'\n",
    "\n",
    "    age_cpt = '/Users/nickywright/Data/Age/Seton++_2020/age_2020.cpt'\n",
    "\n",
    "    output_filename = 'tmp/age_%s.png' % age\n",
    "    # ++++++++++++++++++++++++++++++++++++++++++++++++++++++++++++++++++++++++++++++++++++++++++++++++++\n",
    "    # ------ plot\n",
    "    fig = pygmt.Figure()\n",
    "\n",
    "    fig.grdimage(grid='%s/%s%s%s' % (agegrid_dir, agegrid_filename, age, agegrid_filename_ext),\n",
    "                 region=region, projection=\"%s%sc\" % (projection, width), cmap=age_cpt, dpi=1000) # this dpi is completely overkill. You could reduce this...\n",
    "\n",
    "    # fig.plot(data=gdf_topo_plates.geometry, pen='%s,%s' % (plateboundary_width, plate_colour))\n",
    "    fig.plot(data=gdf_ridges_transforms, pen='%s,%s' % (plateboundary_width, ridge_colour))\n",
    "    fig.plot(data=gdf_ipb, pen='%s,%s' % (plateboundary_width, plate_colour))\n",
    "    # fig.plot(data=gdf_misc, pen='%s,%s' % (plateboundary_width, plate_colour))\n",
    "    fig.plot(data=gdf_fracturezones, pen='%s,%s' % (plateboundary_width, plate_colour))\n",
    "    fig.plot(data=gdf_subduction_left, pen='%s,%s' % (plateboundary_width, subduction_zone_colour), fill=subduction_zone_colour, style='f0.3/0.09+l+t')\n",
    "    fig.plot(data=gdf_subduction_right, pen='%s,%s' % (plateboundary_width, subduction_zone_colour), fill=subduction_zone_colour, style='f0.3/0.09+r+t')\n",
    "    fig.plot(data=gdf_coastlines, fill='black')\n",
    "\n",
    "    # fig.show(width=1000)\n",
    "    fig.savefig(output_filename, dpi=1000) # this dpi is completely overkill. You could reduce this...\n",
    "    \n",
    "    return"
   ]
  },
  {
   "cell_type": "code",
   "execution_count": 61,
   "id": "08b5c381-6a85-4081-a37b-28631a86f9bc",
   "metadata": {},
   "outputs": [],
   "source": [
    "recon_times = np.arange(0, 251, 1)"
   ]
  },
  {
   "cell_type": "code",
   "execution_count": 60,
   "id": "090cf7a8-39ed-4dd2-b6a3-b88b9aa68443",
   "metadata": {
    "collapsed": true,
    "jupyter": {
     "outputs_hidden": true
    },
    "tags": []
   },
   "outputs": [
    {
     "name": "stderr",
     "output_type": "stream",
     "text": [
      "/Users/nickywright/miniconda3/lib/python3.9/site-packages/geopandas/io/file.py:545: UserWarning: You are attempting to write an empty DataFrame to file. For some drivers, this operation may fail.\n",
      "  _to_file_fiona(df, filename, driver, schema, crs, mode, **kwargs)\n",
      "/Users/nickywright/miniconda3/lib/python3.9/site-packages/geopandas/io/file.py:545: UserWarning: You are attempting to write an empty DataFrame to file. For some drivers, this operation may fail.\n",
      "  _to_file_fiona(df, filename, driver, schema, crs, mode, **kwargs)\n",
      "/Users/nickywright/miniconda3/lib/python3.9/site-packages/geopandas/io/file.py:545: UserWarning: You are attempting to write an empty DataFrame to file. For some drivers, this operation may fail.\n",
      "  _to_file_fiona(df, filename, driver, schema, crs, mode, **kwargs)\n",
      "/Users/nickywright/miniconda3/lib/python3.9/site-packages/geopandas/io/file.py:545: UserWarning: You are attempting to write an empty DataFrame to file. For some drivers, this operation may fail.\n",
      "  _to_file_fiona(df, filename, driver, schema, crs, mode, **kwargs)\n",
      "/Users/nickywright/miniconda3/lib/python3.9/site-packages/geopandas/io/file.py:545: UserWarning: You are attempting to write an empty DataFrame to file. For some drivers, this operation may fail.\n",
      "  _to_file_fiona(df, filename, driver, schema, crs, mode, **kwargs)\n",
      "/Users/nickywright/miniconda3/lib/python3.9/site-packages/geopandas/io/file.py:545: UserWarning: You are attempting to write an empty DataFrame to file. For some drivers, this operation may fail.\n",
      "  _to_file_fiona(df, filename, driver, schema, crs, mode, **kwargs)\n",
      "/Users/nickywright/miniconda3/lib/python3.9/site-packages/geopandas/io/file.py:545: UserWarning: You are attempting to write an empty DataFrame to file. For some drivers, this operation may fail.\n",
      "  _to_file_fiona(df, filename, driver, schema, crs, mode, **kwargs)\n",
      "/Users/nickywright/miniconda3/lib/python3.9/site-packages/geopandas/io/file.py:545: UserWarning: You are attempting to write an empty DataFrame to file. For some drivers, this operation may fail.\n",
      "  _to_file_fiona(df, filename, driver, schema, crs, mode, **kwargs)\n",
      "/Users/nickywright/miniconda3/lib/python3.9/site-packages/geopandas/io/file.py:545: UserWarning: You are attempting to write an empty DataFrame to file. For some drivers, this operation may fail.\n",
      "  _to_file_fiona(df, filename, driver, schema, crs, mode, **kwargs)\n",
      "/Users/nickywright/miniconda3/lib/python3.9/site-packages/geopandas/io/file.py:545: UserWarning: You are attempting to write an empty DataFrame to file. For some drivers, this operation may fail.\n",
      "  _to_file_fiona(df, filename, driver, schema, crs, mode, **kwargs)\n",
      "/Users/nickywright/miniconda3/lib/python3.9/site-packages/geopandas/io/file.py:545: UserWarning: You are attempting to write an empty DataFrame to file. For some drivers, this operation may fail.\n",
      "  _to_file_fiona(df, filename, driver, schema, crs, mode, **kwargs)\n",
      "/Users/nickywright/miniconda3/lib/python3.9/site-packages/geopandas/io/file.py:545: UserWarning: You are attempting to write an empty DataFrame to file. For some drivers, this operation may fail.\n",
      "  _to_file_fiona(df, filename, driver, schema, crs, mode, **kwargs)\n",
      "/Users/nickywright/miniconda3/lib/python3.9/site-packages/geopandas/io/file.py:545: UserWarning: You are attempting to write an empty DataFrame to file. For some drivers, this operation may fail.\n",
      "  _to_file_fiona(df, filename, driver, schema, crs, mode, **kwargs)\n",
      "/Users/nickywright/miniconda3/lib/python3.9/site-packages/geopandas/io/file.py:545: UserWarning: You are attempting to write an empty DataFrame to file. For some drivers, this operation may fail.\n",
      "  _to_file_fiona(df, filename, driver, schema, crs, mode, **kwargs)\n",
      "/Users/nickywright/miniconda3/lib/python3.9/site-packages/geopandas/io/file.py:545: UserWarning: You are attempting to write an empty DataFrame to file. For some drivers, this operation may fail.\n",
      "  _to_file_fiona(df, filename, driver, schema, crs, mode, **kwargs)\n",
      "/Users/nickywright/miniconda3/lib/python3.9/site-packages/geopandas/io/file.py:545: UserWarning: You are attempting to write an empty DataFrame to file. For some drivers, this operation may fail.\n",
      "  _to_file_fiona(df, filename, driver, schema, crs, mode, **kwargs)\n",
      "/Users/nickywright/miniconda3/lib/python3.9/site-packages/geopandas/io/file.py:545: UserWarning: You are attempting to write an empty DataFrame to file. For some drivers, this operation may fail.\n",
      "  _to_file_fiona(df, filename, driver, schema, crs, mode, **kwargs)\n",
      "/Users/nickywright/miniconda3/lib/python3.9/site-packages/geopandas/io/file.py:545: UserWarning: You are attempting to write an empty DataFrame to file. For some drivers, this operation may fail.\n",
      "  _to_file_fiona(df, filename, driver, schema, crs, mode, **kwargs)\n",
      "/Users/nickywright/miniconda3/lib/python3.9/site-packages/geopandas/io/file.py:545: UserWarning: You are attempting to write an empty DataFrame to file. For some drivers, this operation may fail.\n",
      "  _to_file_fiona(df, filename, driver, schema, crs, mode, **kwargs)\n",
      "/Users/nickywright/miniconda3/lib/python3.9/site-packages/geopandas/io/file.py:545: UserWarning: You are attempting to write an empty DataFrame to file. For some drivers, this operation may fail.\n",
      "  _to_file_fiona(df, filename, driver, schema, crs, mode, **kwargs)\n",
      "/Users/nickywright/miniconda3/lib/python3.9/site-packages/geopandas/io/file.py:545: UserWarning: You are attempting to write an empty DataFrame to file. For some drivers, this operation may fail.\n",
      "  _to_file_fiona(df, filename, driver, schema, crs, mode, **kwargs)\n",
      "/Users/nickywright/miniconda3/lib/python3.9/site-packages/geopandas/io/file.py:545: UserWarning: You are attempting to write an empty DataFrame to file. For some drivers, this operation may fail.\n",
      "  _to_file_fiona(df, filename, driver, schema, crs, mode, **kwargs)\n",
      "/Users/nickywright/miniconda3/lib/python3.9/site-packages/geopandas/io/file.py:545: UserWarning: You are attempting to write an empty DataFrame to file. For some drivers, this operation may fail.\n",
      "  _to_file_fiona(df, filename, driver, schema, crs, mode, **kwargs)\n",
      "/Users/nickywright/miniconda3/lib/python3.9/site-packages/geopandas/io/file.py:545: UserWarning: You are attempting to write an empty DataFrame to file. For some drivers, this operation may fail.\n",
      "  _to_file_fiona(df, filename, driver, schema, crs, mode, **kwargs)\n",
      "/Users/nickywright/miniconda3/lib/python3.9/site-packages/geopandas/io/file.py:545: UserWarning: You are attempting to write an empty DataFrame to file. For some drivers, this operation may fail.\n",
      "  _to_file_fiona(df, filename, driver, schema, crs, mode, **kwargs)\n",
      "/Users/nickywright/miniconda3/lib/python3.9/site-packages/geopandas/io/file.py:545: UserWarning: You are attempting to write an empty DataFrame to file. For some drivers, this operation may fail.\n",
      "  _to_file_fiona(df, filename, driver, schema, crs, mode, **kwargs)\n",
      "/Users/nickywright/miniconda3/lib/python3.9/site-packages/geopandas/io/file.py:545: UserWarning: You are attempting to write an empty DataFrame to file. For some drivers, this operation may fail.\n",
      "  _to_file_fiona(df, filename, driver, schema, crs, mode, **kwargs)\n",
      "/Users/nickywright/miniconda3/lib/python3.9/site-packages/geopandas/io/file.py:545: UserWarning: You are attempting to write an empty DataFrame to file. For some drivers, this operation may fail.\n",
      "  _to_file_fiona(df, filename, driver, schema, crs, mode, **kwargs)\n",
      "/Users/nickywright/miniconda3/lib/python3.9/site-packages/geopandas/io/file.py:545: UserWarning: You are attempting to write an empty DataFrame to file. For some drivers, this operation may fail.\n",
      "  _to_file_fiona(df, filename, driver, schema, crs, mode, **kwargs)\n",
      "/Users/nickywright/miniconda3/lib/python3.9/site-packages/geopandas/io/file.py:545: UserWarning: You are attempting to write an empty DataFrame to file. For some drivers, this operation may fail.\n",
      "  _to_file_fiona(df, filename, driver, schema, crs, mode, **kwargs)\n",
      "/Users/nickywright/miniconda3/lib/python3.9/site-packages/geopandas/io/file.py:545: UserWarning: You are attempting to write an empty DataFrame to file. For some drivers, this operation may fail.\n",
      "  _to_file_fiona(df, filename, driver, schema, crs, mode, **kwargs)\n",
      "/Users/nickywright/miniconda3/lib/python3.9/site-packages/geopandas/io/file.py:545: UserWarning: You are attempting to write an empty DataFrame to file. For some drivers, this operation may fail.\n",
      "  _to_file_fiona(df, filename, driver, schema, crs, mode, **kwargs)\n",
      "/Users/nickywright/miniconda3/lib/python3.9/site-packages/geopandas/io/file.py:545: UserWarning: You are attempting to write an empty DataFrame to file. For some drivers, this operation may fail.\n",
      "  _to_file_fiona(df, filename, driver, schema, crs, mode, **kwargs)\n",
      "/Users/nickywright/miniconda3/lib/python3.9/site-packages/geopandas/io/file.py:545: UserWarning: You are attempting to write an empty DataFrame to file. For some drivers, this operation may fail.\n",
      "  _to_file_fiona(df, filename, driver, schema, crs, mode, **kwargs)\n",
      "/Users/nickywright/miniconda3/lib/python3.9/site-packages/geopandas/io/file.py:545: UserWarning: You are attempting to write an empty DataFrame to file. For some drivers, this operation may fail.\n",
      "  _to_file_fiona(df, filename, driver, schema, crs, mode, **kwargs)\n",
      "/Users/nickywright/miniconda3/lib/python3.9/site-packages/geopandas/io/file.py:545: UserWarning: You are attempting to write an empty DataFrame to file. For some drivers, this operation may fail.\n",
      "  _to_file_fiona(df, filename, driver, schema, crs, mode, **kwargs)\n",
      "/Users/nickywright/miniconda3/lib/python3.9/site-packages/geopandas/io/file.py:545: UserWarning: You are attempting to write an empty DataFrame to file. For some drivers, this operation may fail.\n",
      "  _to_file_fiona(df, filename, driver, schema, crs, mode, **kwargs)\n",
      "/Users/nickywright/miniconda3/lib/python3.9/site-packages/geopandas/io/file.py:545: UserWarning: You are attempting to write an empty DataFrame to file. For some drivers, this operation may fail.\n",
      "  _to_file_fiona(df, filename, driver, schema, crs, mode, **kwargs)\n",
      "/Users/nickywright/miniconda3/lib/python3.9/site-packages/geopandas/io/file.py:545: UserWarning: You are attempting to write an empty DataFrame to file. For some drivers, this operation may fail.\n",
      "  _to_file_fiona(df, filename, driver, schema, crs, mode, **kwargs)\n",
      "/Users/nickywright/miniconda3/lib/python3.9/site-packages/geopandas/io/file.py:545: UserWarning: You are attempting to write an empty DataFrame to file. For some drivers, this operation may fail.\n",
      "  _to_file_fiona(df, filename, driver, schema, crs, mode, **kwargs)\n",
      "/Users/nickywright/miniconda3/lib/python3.9/site-packages/geopandas/io/file.py:545: UserWarning: You are attempting to write an empty DataFrame to file. For some drivers, this operation may fail.\n",
      "  _to_file_fiona(df, filename, driver, schema, crs, mode, **kwargs)\n",
      "/Users/nickywright/miniconda3/lib/python3.9/site-packages/geopandas/io/file.py:545: UserWarning: You are attempting to write an empty DataFrame to file. For some drivers, this operation may fail.\n",
      "  _to_file_fiona(df, filename, driver, schema, crs, mode, **kwargs)\n",
      "/Users/nickywright/miniconda3/lib/python3.9/site-packages/geopandas/io/file.py:545: UserWarning: You are attempting to write an empty DataFrame to file. For some drivers, this operation may fail.\n",
      "  _to_file_fiona(df, filename, driver, schema, crs, mode, **kwargs)\n",
      "/Users/nickywright/miniconda3/lib/python3.9/site-packages/geopandas/io/file.py:545: UserWarning: You are attempting to write an empty DataFrame to file. For some drivers, this operation may fail.\n",
      "  _to_file_fiona(df, filename, driver, schema, crs, mode, **kwargs)\n",
      "/Users/nickywright/miniconda3/lib/python3.9/site-packages/geopandas/io/file.py:545: UserWarning: You are attempting to write an empty DataFrame to file. For some drivers, this operation may fail.\n",
      "  _to_file_fiona(df, filename, driver, schema, crs, mode, **kwargs)\n",
      "/Users/nickywright/miniconda3/lib/python3.9/site-packages/geopandas/io/file.py:545: UserWarning: You are attempting to write an empty DataFrame to file. For some drivers, this operation may fail.\n",
      "  _to_file_fiona(df, filename, driver, schema, crs, mode, **kwargs)\n",
      "/Users/nickywright/miniconda3/lib/python3.9/site-packages/geopandas/io/file.py:545: UserWarning: You are attempting to write an empty DataFrame to file. For some drivers, this operation may fail.\n",
      "  _to_file_fiona(df, filename, driver, schema, crs, mode, **kwargs)\n",
      "/Users/nickywright/miniconda3/lib/python3.9/site-packages/geopandas/io/file.py:545: UserWarning: You are attempting to write an empty DataFrame to file. For some drivers, this operation may fail.\n",
      "  _to_file_fiona(df, filename, driver, schema, crs, mode, **kwargs)\n",
      "/Users/nickywright/miniconda3/lib/python3.9/site-packages/geopandas/io/file.py:545: UserWarning: You are attempting to write an empty DataFrame to file. For some drivers, this operation may fail.\n",
      "  _to_file_fiona(df, filename, driver, schema, crs, mode, **kwargs)\n",
      "/Users/nickywright/miniconda3/lib/python3.9/site-packages/geopandas/io/file.py:545: UserWarning: You are attempting to write an empty DataFrame to file. For some drivers, this operation may fail.\n",
      "  _to_file_fiona(df, filename, driver, schema, crs, mode, **kwargs)\n",
      "/Users/nickywright/miniconda3/lib/python3.9/site-packages/geopandas/io/file.py:545: UserWarning: You are attempting to write an empty DataFrame to file. For some drivers, this operation may fail.\n",
      "  _to_file_fiona(df, filename, driver, schema, crs, mode, **kwargs)\n",
      "/Users/nickywright/miniconda3/lib/python3.9/site-packages/geopandas/io/file.py:545: UserWarning: You are attempting to write an empty DataFrame to file. For some drivers, this operation may fail.\n",
      "  _to_file_fiona(df, filename, driver, schema, crs, mode, **kwargs)\n",
      "/Users/nickywright/miniconda3/lib/python3.9/site-packages/geopandas/io/file.py:545: UserWarning: You are attempting to write an empty DataFrame to file. For some drivers, this operation may fail.\n",
      "  _to_file_fiona(df, filename, driver, schema, crs, mode, **kwargs)\n",
      "/Users/nickywright/miniconda3/lib/python3.9/site-packages/geopandas/io/file.py:545: UserWarning: You are attempting to write an empty DataFrame to file. For some drivers, this operation may fail.\n",
      "  _to_file_fiona(df, filename, driver, schema, crs, mode, **kwargs)\n",
      "/Users/nickywright/miniconda3/lib/python3.9/site-packages/geopandas/io/file.py:545: UserWarning: You are attempting to write an empty DataFrame to file. For some drivers, this operation may fail.\n",
      "  _to_file_fiona(df, filename, driver, schema, crs, mode, **kwargs)\n",
      "/Users/nickywright/miniconda3/lib/python3.9/site-packages/geopandas/io/file.py:545: UserWarning: You are attempting to write an empty DataFrame to file. For some drivers, this operation may fail.\n",
      "  _to_file_fiona(df, filename, driver, schema, crs, mode, **kwargs)\n",
      "/Users/nickywright/miniconda3/lib/python3.9/site-packages/geopandas/io/file.py:545: UserWarning: You are attempting to write an empty DataFrame to file. For some drivers, this operation may fail.\n",
      "  _to_file_fiona(df, filename, driver, schema, crs, mode, **kwargs)\n",
      "/Users/nickywright/miniconda3/lib/python3.9/site-packages/geopandas/io/file.py:545: UserWarning: You are attempting to write an empty DataFrame to file. For some drivers, this operation may fail.\n",
      "  _to_file_fiona(df, filename, driver, schema, crs, mode, **kwargs)\n",
      "/Users/nickywright/miniconda3/lib/python3.9/site-packages/geopandas/io/file.py:545: UserWarning: You are attempting to write an empty DataFrame to file. For some drivers, this operation may fail.\n",
      "  _to_file_fiona(df, filename, driver, schema, crs, mode, **kwargs)\n",
      "/Users/nickywright/miniconda3/lib/python3.9/site-packages/geopandas/io/file.py:545: UserWarning: You are attempting to write an empty DataFrame to file. For some drivers, this operation may fail.\n",
      "  _to_file_fiona(df, filename, driver, schema, crs, mode, **kwargs)\n",
      "/Users/nickywright/miniconda3/lib/python3.9/site-packages/geopandas/io/file.py:545: UserWarning: You are attempting to write an empty DataFrame to file. For some drivers, this operation may fail.\n",
      "  _to_file_fiona(df, filename, driver, schema, crs, mode, **kwargs)\n",
      "/Users/nickywright/miniconda3/lib/python3.9/site-packages/geopandas/io/file.py:545: UserWarning: You are attempting to write an empty DataFrame to file. For some drivers, this operation may fail.\n",
      "  _to_file_fiona(df, filename, driver, schema, crs, mode, **kwargs)\n",
      "/Users/nickywright/miniconda3/lib/python3.9/site-packages/geopandas/io/file.py:545: UserWarning: You are attempting to write an empty DataFrame to file. For some drivers, this operation may fail.\n",
      "  _to_file_fiona(df, filename, driver, schema, crs, mode, **kwargs)\n",
      "/Users/nickywright/miniconda3/lib/python3.9/site-packages/geopandas/io/file.py:545: UserWarning: You are attempting to write an empty DataFrame to file. For some drivers, this operation may fail.\n",
      "  _to_file_fiona(df, filename, driver, schema, crs, mode, **kwargs)\n",
      "/Users/nickywright/miniconda3/lib/python3.9/site-packages/geopandas/io/file.py:545: UserWarning: You are attempting to write an empty DataFrame to file. For some drivers, this operation may fail.\n",
      "  _to_file_fiona(df, filename, driver, schema, crs, mode, **kwargs)\n",
      "/Users/nickywright/miniconda3/lib/python3.9/site-packages/geopandas/io/file.py:545: UserWarning: You are attempting to write an empty DataFrame to file. For some drivers, this operation may fail.\n",
      "  _to_file_fiona(df, filename, driver, schema, crs, mode, **kwargs)\n",
      "/Users/nickywright/miniconda3/lib/python3.9/site-packages/geopandas/io/file.py:545: UserWarning: You are attempting to write an empty DataFrame to file. For some drivers, this operation may fail.\n",
      "  _to_file_fiona(df, filename, driver, schema, crs, mode, **kwargs)\n",
      "/Users/nickywright/miniconda3/lib/python3.9/site-packages/geopandas/io/file.py:545: UserWarning: You are attempting to write an empty DataFrame to file. For some drivers, this operation may fail.\n",
      "  _to_file_fiona(df, filename, driver, schema, crs, mode, **kwargs)\n",
      "/Users/nickywright/miniconda3/lib/python3.9/site-packages/geopandas/io/file.py:545: UserWarning: You are attempting to write an empty DataFrame to file. For some drivers, this operation may fail.\n",
      "  _to_file_fiona(df, filename, driver, schema, crs, mode, **kwargs)\n",
      "/Users/nickywright/miniconda3/lib/python3.9/site-packages/geopandas/io/file.py:545: UserWarning: You are attempting to write an empty DataFrame to file. For some drivers, this operation may fail.\n",
      "  _to_file_fiona(df, filename, driver, schema, crs, mode, **kwargs)\n"
     ]
    }
   ],
   "source": [
    "for time in recon_times:\n",
    "    plot_paleo_agegrid(time)"
   ]
  },
  {
   "cell_type": "markdown",
   "id": "cd83d051-ee43-4ea8-8358-d62b1455bf54",
   "metadata": {},
   "source": [
    "---\n",
    "# Create dymaxion globe through time!\n",
    "\n",
    "Since there is this handy python package [`pydymax`](https://github.com/Teque5/pydymax) that will convert things into a dymaxion globe for you, we can actually do this through time!"
   ]
  },
  {
   "cell_type": "code",
   "execution_count": 7,
   "id": "56c31715-5c5f-4783-8719-db714867b76c",
   "metadata": {},
   "outputs": [],
   "source": [
    "import dymax"
   ]
  },
  {
   "cell_type": "code",
   "execution_count": 100,
   "id": "5c335a14-a24d-4c12-b418-614120faf019",
   "metadata": {
    "collapsed": true,
    "jupyter": {
     "outputs_hidden": true
    },
    "tags": []
   },
   "outputs": [
    {
     "name": "stdout",
     "output_type": "stream",
     "text": [
      ":: input image resolution = (7087, 3544)\n",
      ":: output image resolution = (6600, 3120)\n",
      ":: sweeping over Longitudes:\n",
      "-180.00 -178.98 -177.97 -176.95 -175.94 -174.92 -173.90 -172.89 -171.87 -170.86 -169.84 -168.82 -167.81 -166.79 -165.77 -164.76 -163.74 -162.73 -161.71 -160.69 -159.68 -158.66 -157.65 -156.63 -155.61 -154.60 -153.58 -152.57 -151.55 -150.53 -149.52 -148.50 -147.49 -146.47 -145.45 -144.44 -143.42 -142.40 -141.39 -140.37 -139.36 -138.34 -137.32 -136.31 -135.29 -134.28 -133.26 -132.24 -131.23 -130.21 -129.20 -128.18 -127.16 -126.15 -125.13 -124.12 -123.10 -122.08 -121.07 -120.05 -119.03 -118.02 -117.00 -115.99 -114.97 -113.95 -112.94 -111.92 -110.91 -109.89 -108.87 -107.86 -106.84 -105.83 -104.81 -103.79 -102.78 -101.76 -100.75 -099.73 -098.71 -097.70 -096.68 -095.66 -094.65 -093.63 -092.62 -091.60 -090.58 -089.57 -088.55 -087.54 -086.52 -085.50 -084.49 -083.47 -082.46 -081.44 -080.42 -079.41 -078.39 -077.38 -076.36 -075.34 -074.33 -073.31 -072.29 -071.28 -070.26 -069.25 -068.23 -067.21 -066.20 -065.18 -064.17 -063.15 -062.13 -061.12 -060.10 -059.09 -058.07 -057.05 -056.04 -055.02 -054.01 -052.99 -051.97 -050.96 -049.94 -048.92 -047.91 -046.89 -045.88 -044.86 -043.84 -042.83 -041.81 -040.80 -039.78 -038.76 -037.75 -036.73 -035.72 -034.70 -033.68 -032.67 -031.65 -030.64 -029.62 -028.60 -027.59 -026.57 -025.55 -024.54 -023.52 -022.51 -021.49 -020.47 -019.46 -018.44 -017.43 -016.41 -015.39 -014.38 -013.36 -012.35 -011.33 -010.31 -009.30 -008.28 -007.27 -006.25 -005.23 -004.22 -003.20 -002.18 -001.17 -000.15 +000.86 +001.88 +002.90 +003.91 +004.93 +005.94 +006.96 +007.98 +008.99 +010.01 +011.02 +012.04 +013.06 +014.07 +015.09 +016.10 +017.12 +018.14 +019.15 +020.17 +021.19 +022.20 +023.22 +024.23 +025.25 +026.27 +027.28 +028.30 +029.31 +030.33 +031.35 +032.36 +033.38 +034.39 +035.41 +036.43 +037.44 +038.46 +039.48 +040.49 +041.51 +042.52 +043.54 +044.56 +045.57 +046.59 +047.60 +048.62 +049.64 +050.65 +051.67 +052.68 +053.70 +054.72 +055.73 +056.75 +057.76 +058.78 +059.80 +060.81 +061.83 +062.85 +063.86 +064.88 +065.89 +066.91 +067.93 +068.94 +069.96 +070.97 +071.99 +073.01 +074.02 +075.04 +076.05 +077.07 +078.09 +079.10 +080.12 +081.13 +082.15 +083.17 +084.18 +085.20 +086.22 +087.23 +088.25 +089.26 +090.28 +091.30 +092.31 +093.33 +094.34 +095.36 +096.38 +097.39 +098.41 +099.42 +100.44 +101.46 +102.47 +103.49 +104.50 +105.52 +106.54 +107.55 +108.57 +109.59 +110.60 +111.62 +112.63 +113.65 +114.67 +115.68 +116.70 +117.71 +118.73 +119.75 +120.76 +121.78 +122.79 +123.81 +124.83 +125.84 +126.86 +127.87 +128.89 +129.91 +130.92 +131.94 +132.96 +133.97 +134.99 +136.00 +137.02 +138.04 +139.05 +140.07 +141.08 +142.10 +143.12 +144.13 +145.15 +146.16 +147.18 +148.20 +149.21 +150.23 +151.24 +152.26 +153.28 +154.29 +155.31 +156.33 +157.34 +158.36 +159.37 +160.39 +161.41 +162.42 +163.44 +164.45 +165.47 +166.49 +167.50 +168.52 +169.53 +170.55 +171.57 +172.58 +173.60 +174.61 +175.63 +176.65 +177.66 +178.68 +179.70 \n",
      ":: mapped 25116328 points to dymax projection @ 33327.1 pts/sec [753.6 secs total]\n"
     ]
    }
   ],
   "source": [
    "# Warning: this really IS NOT quick since my images are giant.\n",
    "# It would probably be faster if I didn't use a ridiculous dpi\n",
    "\n",
    "recon_times = np.arange(100, 101, 1)\n",
    "\n",
    "for time in recon_times:\n",
    "    input_filename = 'tmp/age_%s.png' % time\n",
    "    output_filename = 'tmp/age_dymax-%s.png' % time\n",
    "    \n",
    "    dymax.convert_rectimage_2_dymaximage(input_filename, output_filename, output_filename, scale=1200, save=True, show=False)"
   ]
  },
  {
   "cell_type": "markdown",
   "id": "4305e27a-b47b-440e-b26e-52085875e916",
   "metadata": {},
   "source": [
    "### Create an animation!\n",
    "\n",
    "This uses ffmpeg. I do **not** understand how to get ffmpeg filters to work sometimes, but this seems to go ok..."
   ]
  },
  {
   "cell_type": "code",
   "execution_count": 114,
   "id": "96c9bdab-a6bb-469f-9b04-08c343f47707",
   "metadata": {},
   "outputs": [
    {
     "name": "stderr",
     "output_type": "stream",
     "text": [
      "ffmpeg version 6.0 Copyright (c) 2000-2023 the FFmpeg developers\n",
      "  built with Apple clang version 14.0.3 (clang-1403.0.22.14.1)\n",
      "  configuration: --prefix=/opt/homebrew/Cellar/ffmpeg/6.0 --enable-shared --enable-pthreads --enable-version3 --cc=clang --host-cflags= --host-ldflags= --enable-ffplay --enable-gnutls --enable-gpl --enable-libaom --enable-libaribb24 --enable-libbluray --enable-libdav1d --enable-libmp3lame --enable-libopus --enable-librav1e --enable-librist --enable-librubberband --enable-libsnappy --enable-libsrt --enable-libsvtav1 --enable-libtesseract --enable-libtheora --enable-libvidstab --enable-libvmaf --enable-libvorbis --enable-libvpx --enable-libwebp --enable-libx264 --enable-libx265 --enable-libxml2 --enable-libxvid --enable-lzma --enable-libfontconfig --enable-libfreetype --enable-frei0r --enable-libass --enable-libopencore-amrnb --enable-libopencore-amrwb --enable-libopenjpeg --enable-libspeex --enable-libsoxr --enable-libzmq --enable-libzimg --disable-libjack --disable-indev=jack --enable-videotoolbox --enable-audiotoolbox --enable-neon\n",
      "  libavutil      58.  2.100 / 58.  2.100\n",
      "  libavcodec     60.  3.100 / 60.  3.100\n",
      "  libavformat    60.  3.100 / 60.  3.100\n",
      "  libavdevice    60.  1.100 / 60.  1.100\n",
      "  libavfilter     9.  3.100 /  9.  3.100\n",
      "  libswscale      7.  1.100 /  7.  1.100\n",
      "  libswresample   4. 10.100 /  4. 10.100\n",
      "  libpostproc    57.  1.100 / 57.  1.100\n",
      "Input #0, image2, from 'tmp/age_dymax%0d.png':\n",
      "  Duration: 00:00:10.04, start: 0.000000, bitrate: N/A\n",
      "  Stream #0:0: Video: png, rgba(pc), 6600x3120, 25 fps, 25 tbr, 25 tbn\n",
      "Stream mapping:\n",
      "  Stream #0:0 -> #0:0 (png (native) -> h264 (libx264))\n",
      "Press [q] to stop, [?] for help\n",
      "[libx264 @ 0x13d606040] using cpu capabilities: ARMv8 NEON\n",
      "[libx264 @ 0x13d606040] profile High, level 3.2, 4:2:0, 8-bit\n",
      "[libx264 @ 0x13d606040] 264 - core 164 r3095 baee400 - H.264/MPEG-4 AVC codec - Copyleft 2003-2022 - http://www.videolan.org/x264.html - options: cabac=1 ref=3 deblock=1:0:0 analyse=0x3:0x113 me=hex subme=7 psy=1 psy_rd=1.00:0.00 mixed_ref=1 me_range=16 chroma_me=1 trellis=1 8x8dct=1 cqm=0 deadzone=21,11 fast_pskip=1 chroma_qp_offset=-2 threads=15 lookahead_threads=2 sliced_threads=0 nr=0 decimate=1 interlaced=0 bluray_compat=0 constrained_intra=0 bframes=3 b_pyramid=2 b_adapt=1 b_bias=0 direct=1 weightb=1 open_gop=0 weightp=2 keyint=250 keyint_min=10 scenecut=40 intra_refresh=0 rc_lookahead=40 rc=crf mbtree=1 crf=23.0 qcomp=0.60 qpmin=0 qpmax=69 qpstep=4 ip_ratio=1.40 aq=1:1.00\n",
      "Output #0, mp4, to 'dymax_animation.mp4':\n",
      "  Metadata:\n",
      "    encoder         : Lavf60.3.100\n",
      "  Stream #0:0: Video: h264 (avc1 / 0x31637661), yuv420p(tv, progressive), 1650x780, q=2-31, 10 fps, 10240 tbn\n",
      "    Metadata:\n",
      "      encoder         : Lavc60.3.100 libx264\n",
      "    Side data:\n",
      "      cpb: bitrate max/min/avg: 0/0/0 buffer size: 0 vbv_delay: N/A\n",
      "frame=    0 fps=0.0 q=0.0 10000000000000000000000000000000size=       0kB time=-577014:32:22.77 bitrate=  -0.0kbits/s speed=N/A    \n",
      "Enter command: <target>|all <time>|-1 <command>[ <argument>]\n",
      "\n",
      "Parse error, at least 3 arguments were expected, only 1 given in string 'ale to 1/3 size: \"scale=trunc(iw/6)*2:trunc(ih/6)*2\"'\n",
      "frame=    0 fps=0.0 q=0.0 size=       0kB time=-577014:32:22.77 bitrate=  -0.0kbits/s speed=N/A    \n",
      "Enter command: <target>|all <time>|-1 <command>[ <argument>]\n",
      "\n",
      "Parse error, at least 3 arguments were expected, only 1 given in string 'ale to 1/2 size \"scale=trunc(iw/4)*2:trunc(ih/4)*2\" '\n",
      "frame=  251 fps=9.6 q=-1.0 Lsize=    6583kB time=00:00:24.80 bitrate=2174.5kbits/s speed=0.95x     \n",
      "video:6579kB audio:0kB subtitle:0kB other streams:0kB global headers:0kB muxing overhead: 0.058660%\n",
      "[libx264 @ 0x13d606040] frame I:2     Avg QP:20.40  size:124735\n",
      "[libx264 @ 0x13d606040] frame P:63    Avg QP:21.35  size: 61496\n",
      "[libx264 @ 0x13d606040] frame B:186   Avg QP:26.77  size: 14046\n",
      "[libx264 @ 0x13d606040] consecutive B-frames:  1.2%  0.0%  0.0% 98.8%\n",
      "[libx264 @ 0x13d606040] mb I  I16..4: 13.8% 49.0% 37.3%\n",
      "[libx264 @ 0x13d606040] mb P  I16..4:  1.3%  2.0%  2.7%  P16..4: 15.5% 18.1% 16.4%  0.0%  0.0%    skip:44.1%\n",
      "[libx264 @ 0x13d606040] mb B  I16..4:  0.1%  0.3%  0.1%  B16..8: 23.9% 11.1%  4.2%  direct: 3.1%  skip:57.1%  L0:37.9% L1:42.5% BI:19.6%\n",
      "[libx264 @ 0x13d606040] 8x8 transform intra:42.4% inter:41.5%\n",
      "[libx264 @ 0x13d606040] coded y,uvDC,uvAC intra: 43.5% 56.4% 52.3% inter: 10.8% 15.0% 10.0%\n",
      "[libx264 @ 0x13d606040] i16 v,h,dc,p: 63% 21% 15%  1%\n",
      "[libx264 @ 0x13d606040] i8 v,h,dc,ddl,ddr,vr,hd,vl,hu: 24%  9% 46%  3%  3%  3%  3%  4%  4%\n",
      "[libx264 @ 0x13d606040] i4 v,h,dc,ddl,ddr,vr,hd,vl,hu: 25% 17% 23%  5%  7%  7%  6%  6%  5%\n",
      "[libx264 @ 0x13d606040] i8c dc,h,v,p: 55% 17% 19%  9%\n",
      "[libx264 @ 0x13d606040] Weighted P-Frames: Y:0.0% UV:0.0%\n",
      "[libx264 @ 0x13d606040] ref P L0: 67.7% 10.8% 13.4%  8.1%\n",
      "[libx264 @ 0x13d606040] ref B L0: 90.8%  7.3%  1.9%\n",
      "[libx264 @ 0x13d606040] ref B L1: 96.1%  3.9%\n",
      "[libx264 @ 0x13d606040] kb/s:2147.05\n"
     ]
    }
   ],
   "source": [
    "%%bash\n",
    "\n",
    "cp tmp/age_dymax-0.png tmp/age_dymax0.png\n",
    "\n",
    "# ffmpeg -r 6 -start_number -250 -i tmp/age_dymax%0d.png -c:v prores -pix_fmt yuva444p10le -vf \"pad=ceil(iw/2)*2:ceil(ih/2)*2\" -y dymax_animation.mov\n",
    "ffmpeg -r 10 -start_number -250 -i tmp/age_dymax%0d.png -pix_fmt yuv420p -vf \"split=2[clr][bg];[bg]drawbox=c=white:t=fill[bg];[bg][clr]overlay,scale=trunc(iw/8)*2:trunc(ih/8)*2,drawtext=fontsize=70:fontfile=/System/Library/Fonts/Avenir.ttc:text='%{eif\\:250-n\\:d} Ma':x=40: y=(40): fontcolor=black\" -y dymax_animation.mp4\n",
    "\n",
    "# scale to 1/3 size: \"scale=trunc(iw/6)*2:trunc(ih/6)*2\"\n",
    "# scale to 1/2 size \"scale=trunc(iw/4)*2:trunc(ih/4)*2\" \n",
    " "
   ]
  },
  {
   "cell_type": "code",
   "execution_count": 115,
   "id": "0417db3d-0c0c-4847-99c5-05e9194f0e07",
   "metadata": {},
   "outputs": [
    {
     "data": {
      "text/html": [
       "\n",
       "<video width=\"800\" height=\" \" \n",
       "       src=\"dymax_animation.mp4\"  \n",
       "       controls>\n",
       "</video>\n"
      ],
      "text/plain": [
       "<IPython.core.display.HTML object>"
      ]
     },
     "metadata": {},
     "output_type": "display_data"
    }
   ],
   "source": [
    "%%html\n",
    "\n",
    "<video width=\"800\" height=\" \" \n",
    "       src=\"dymax_animation.mp4\"  \n",
    "       controls>\n",
    "</video>"
   ]
  },
  {
   "cell_type": "code",
   "execution_count": null,
   "id": "a322fe8f-07e8-4452-b8e2-c74e986fb60a",
   "metadata": {},
   "outputs": [],
   "source": []
  }
 ],
 "metadata": {
  "kernelspec": {
   "display_name": "Python 3 (ipykernel)",
   "language": "python",
   "name": "python3"
  },
  "language_info": {
   "codemirror_mode": {
    "name": "ipython",
    "version": 3
   },
   "file_extension": ".py",
   "mimetype": "text/x-python",
   "name": "python",
   "nbconvert_exporter": "python",
   "pygments_lexer": "ipython3",
   "version": "3.9.16"
  }
 },
 "nbformat": 4,
 "nbformat_minor": 5
}
